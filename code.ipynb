{
 "cells": [
  {
   "cell_type": "code",
   "execution_count": null,
   "metadata": {},
   "outputs": [],
   "source": [
    "import torch \n",
    "import torch.nn as nn\n",
    "import torch.nn.functional as F\n",
    "import torch.utils.data as data \n",
    "from PIL import Image\n",
    "import torchvision.transforms as transformers\n",
    "from torchvision.utils import save_image\n",
    "import torch.optim as optim\n",
    "import torchvision.models as models\n"
   ]
  },
  {
   "cell_type": "code",
   "execution_count": null,
   "metadata": {},
   "outputs": [],
   "source": [
    "device = 'mps' if torch.backends.mps.is_available() else 'cpu'\n",
    "device"
   ]
  },
  {
   "cell_type": "code",
   "execution_count": null,
   "metadata": {},
   "outputs": [],
   "source": [
    "model = models.vgg19(weights='VGG19_Weights.DEFAULT').features\n",
    "print(model)"
   ]
  },
  {
   "cell_type": "code",
   "execution_count": null,
   "metadata": {},
   "outputs": [],
   "source": [
    "\n",
    "class VGG(nn.Module):\n",
    "    def __init__(self):\n",
    "        super(VGG,self).__init__()\n",
    "        \n",
    "        self.layers = ['0','5','10','19','28']\n",
    "        self.model = models.vgg19(weights='VGG19_Weights.DEFAULT').features[:29]\n",
    "        \n",
    "    def forward(self,x):\n",
    "        features = []\n",
    "        \n",
    "        for layer_num, layer in enumerate(self.model):\n",
    "            x = layer(x)\n",
    "            if str(layer_num) in self.layers:\n",
    "                features.append(x)\n",
    "                \n",
    "        return features\n",
    "                        \n",
    "\n"
   ]
  },
  {
   "cell_type": "code",
   "execution_count": null,
   "metadata": {},
   "outputs": [],
   "source": [
    "loader = transformers.Compose(\n",
    "    [\n",
    "        transformers.Resize((512,521)),\n",
    "        transformers.ToTensor()\n",
    "    ]\n",
    ")\n",
    "\n",
    "def load_image(image_path):\n",
    "    image = Image.open(image_path)\n",
    "    image = loader(image).unsqueeze(0)\n",
    "    return image.to(device)"
   ]
  },
  {
   "cell_type": "code",
   "execution_count": null,
   "metadata": {},
   "outputs": [],
   "source": [
    "content_image = load_image(\"content.jpg\")\n",
    "style_image = load_image(\"style.jpg\")"
   ]
  },
  {
   "cell_type": "code",
   "execution_count": null,
   "metadata": {},
   "outputs": [],
   "source": [
    "content_image.shape"
   ]
  },
  {
   "cell_type": "code",
   "execution_count": null,
   "metadata": {},
   "outputs": [],
   "source": [
    "model = VGG().to(device=device)"
   ]
  },
  {
   "cell_type": "code",
   "execution_count": null,
   "metadata": {},
   "outputs": [],
   "source": [
    "generated_image = content_image.clone().requires_grad_(True)"
   ]
  },
  {
   "cell_type": "code",
   "execution_count": null,
   "metadata": {},
   "outputs": [],
   "source": [
    "TOTAL_STEPS = 400\n",
    "LEARNING_RATE = 0.001\n",
    "ALPHA = 1\n",
    "BETA = 0.01\n"
   ]
  },
  {
   "cell_type": "code",
   "execution_count": null,
   "metadata": {},
   "outputs": [],
   "source": [
    "optimizer = optim.Adam([generated_image],lr=LEARNING_RATE)"
   ]
  },
  {
   "cell_type": "code",
   "execution_count": null,
   "metadata": {},
   "outputs": [],
   "source": [
    "for step in range(TOTAL_STEPS):\n",
    "    torch.autograd.set_detect_anomaly(True)\n",
    "    \n",
    "    generated_features = model(generated_image)\n",
    "    content_features = model(content_image)\n",
    "    style_features = model(style_image)\n",
    "    \n",
    "    style_loss = 0\n",
    "    content_loss = 0\n",
    "    \n",
    "    for generated_feature, content_feature,style_feature in zip(generated_features,content_features,style_features):\n",
    "        batch_size, channels, height, width = generated_feature.shape\n",
    "        \n",
    "        # Calculating the content loss \n",
    "        content_loss += torch.mean((generated_feature - content_feature) ** 2)\n",
    "        \n",
    "        # Calculating the Gram Matrix for the generated and style image\n",
    "        G = generated_feature.view(channels,height*width).mm(\n",
    "            generated_feature.view(channels,height*width).t()\n",
    "        )\n",
    "        \n",
    "        S = style_feature.view(channels,height*width).mm(\n",
    "            style_feature.view(channels,height*width).t()\n",
    "        )\n",
    "        \n",
    "        style_loss += torch.mean((G - S) ** 2)\n",
    "        \n",
    "    total_loss = ALPHA * content_loss + BETA * style_loss\n",
    "        \n",
    "    optimizer.zero_grad()\n",
    "    total_loss.backward(retain_graph=True)\n",
    "    optimizer.step()\n",
    "        \n",
    "        \n",
    "    if step % 50 == 0:\n",
    "        print(f\"Step : {step} Total_Loss : {total_loss} Content_Loss = {content_loss} Style_Loss : {style_loss}\")\n",
    "    if step % 200 == 0:\n",
    "        save_image(generated_image,\"generate_image.jpg\")\n",
    "        \n",
    "        "
   ]
  }
 ],
 "metadata": {
  "kernelspec": {
   "display_name": "pytorch",
   "language": "python",
   "name": "python3"
  },
  "language_info": {
   "codemirror_mode": {
    "name": "ipython",
    "version": 3
   },
   "file_extension": ".py",
   "mimetype": "text/x-python",
   "name": "python",
   "nbconvert_exporter": "python",
   "pygments_lexer": "ipython3",
   "version": "3.12.2"
  }
 },
 "nbformat": 4,
 "nbformat_minor": 2
}
